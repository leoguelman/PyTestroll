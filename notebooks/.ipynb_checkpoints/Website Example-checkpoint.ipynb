{
 "cells": [
  {
   "cell_type": "markdown",
   "metadata": {},
   "source": [
    "# Test & Roll: Website Example\n",
    "\n",
    "Meta-analysis and test & roll design for website example (Elea McDonnell Feit & Ron Berman)"
   ]
  },
  {
   "cell_type": "markdown",
   "metadata": {},
   "source": [
    "## Imports"
   ]
  },
  {
   "cell_type": "code",
   "execution_count": 1,
   "metadata": {},
   "outputs": [],
   "source": [
    "import numpy as np\n",
    "import seaborn as sns\n",
    "import matplotlib.pyplot as plt\n",
    "sns.set()\n",
    "import warnings\n",
    "warnings.filterwarnings('ignore')\n",
    "\n",
    "import pystan\n",
    "import multiprocessing\n",
    "import stan_utility\n",
    "\n",
    "import sys\n",
    "sys.path.insert(1, '/Users/lguelman/Library/Mobile Documents/com~apple~CloudDocs/LG_Files/Development/Pytestroll/testroll')\n",
    "from utils import stan_model_summary\n",
    "from nn_functions import *"
   ]
  },
  {
   "cell_type": "markdown",
   "metadata": {},
   "source": [
    "## Generate synthetic data"
   ]
  },
  {
   "cell_type": "code",
   "execution_count": 2,
   "metadata": {},
   "outputs": [],
   "source": [
    "def generate_syn_expt(nexpt, nobs, mu, sigma, omega, seed=42):\n",
    "    \n",
    "    np.random.seed(seed)\n",
    "    \n",
    "    nobs = np.full((nexpt, 2), nobs, dtype=int)\n",
    "    y = np.zeros(shape=(nexpt,2))\n",
    "   \n",
    "    for e in range(nexpt):\n",
    "        t =  np.random.normal(mu, omega, size=1)\n",
    "        m =  np.random.normal(t, sigma, size=2)\n",
    "           \n",
    "        while np.min(np.concatenate((t, m))) < 0 or np.max(np.concatenate((t, m))) > 1:\n",
    "            t =  np.random.normal(mu, omega, size=1)\n",
    "            m =  np.random.normal(t, sigma, size=2)    \n",
    "     \n",
    "        y[e, 0] = np.mean(np.random.normal(m[0], np.sqrt(m[0]*(1-m[0])), nobs[e,0]))\n",
    "        y[e, 1] = np.mean(np.random.normal(m[1], np.sqrt(m[1]*(1-m[1])), nobs[e,1]))\n",
    "          \n",
    "    return {\"nexpt\": nexpt, \"y\":y, \"nobs\":nobs}\n",
    "\n",
    "\n",
    "d = generate_syn_expt(nexpt=50, nobs=10000, mu=0.676, sigma=0.030, omega=0.199)"
   ]
  },
  {
   "cell_type": "markdown",
   "metadata": {},
   "source": [
    "## Meta-analysis of website test data"
   ]
  },
  {
   "cell_type": "code",
   "execution_count": 3,
   "metadata": {},
   "outputs": [
    {
     "name": "stderr",
     "output_type": "stream",
     "text": [
      "INFO:pystan:COMPILING THE C++ CODE FOR MODEL anon_model_484bd5f15ab2de104a8e26e411217e60 NOW.\n"
     ]
    },
    {
     "data": {
      "text/html": [
       "<div>\n",
       "<style scoped>\n",
       "    .dataframe tbody tr th:only-of-type {\n",
       "        vertical-align: middle;\n",
       "    }\n",
       "\n",
       "    .dataframe tbody tr th {\n",
       "        vertical-align: top;\n",
       "    }\n",
       "\n",
       "    .dataframe thead th {\n",
       "        text-align: right;\n",
       "    }\n",
       "</style>\n",
       "<table border=\"1\" class=\"dataframe\">\n",
       "  <thead>\n",
       "    <tr style=\"text-align: right;\">\n",
       "      <th></th>\n",
       "      <th>mean</th>\n",
       "      <th>se_mean</th>\n",
       "      <th>sd</th>\n",
       "      <th>2.5%</th>\n",
       "      <th>25%</th>\n",
       "      <th>50%</th>\n",
       "      <th>75%</th>\n",
       "      <th>97.5%</th>\n",
       "      <th>n_eff</th>\n",
       "      <th>Rhat</th>\n",
       "    </tr>\n",
       "  </thead>\n",
       "  <tbody>\n",
       "    <tr>\n",
       "      <th>m[1,1]</th>\n",
       "      <td>0.769922</td>\n",
       "      <td>0.000052</td>\n",
       "      <td>0.004178</td>\n",
       "      <td>0.761742</td>\n",
       "      <td>0.767105</td>\n",
       "      <td>0.769860</td>\n",
       "      <td>0.772729</td>\n",
       "      <td>0.778237</td>\n",
       "      <td>6405.597741</td>\n",
       "      <td>0.999481</td>\n",
       "    </tr>\n",
       "    <tr>\n",
       "      <th>m[2,1]</th>\n",
       "      <td>0.741556</td>\n",
       "      <td>0.000054</td>\n",
       "      <td>0.004357</td>\n",
       "      <td>0.733079</td>\n",
       "      <td>0.738646</td>\n",
       "      <td>0.741571</td>\n",
       "      <td>0.744457</td>\n",
       "      <td>0.750064</td>\n",
       "      <td>6446.659013</td>\n",
       "      <td>0.999506</td>\n",
       "    </tr>\n",
       "    <tr>\n",
       "      <th>m[3,1]</th>\n",
       "      <td>0.348951</td>\n",
       "      <td>0.000055</td>\n",
       "      <td>0.004644</td>\n",
       "      <td>0.339783</td>\n",
       "      <td>0.345847</td>\n",
       "      <td>0.348911</td>\n",
       "      <td>0.352101</td>\n",
       "      <td>0.357833</td>\n",
       "      <td>7202.841830</td>\n",
       "      <td>0.999550</td>\n",
       "    </tr>\n",
       "    <tr>\n",
       "      <th>m[4,1]</th>\n",
       "      <td>0.832571</td>\n",
       "      <td>0.000045</td>\n",
       "      <td>0.003834</td>\n",
       "      <td>0.824728</td>\n",
       "      <td>0.830049</td>\n",
       "      <td>0.832618</td>\n",
       "      <td>0.835166</td>\n",
       "      <td>0.840062</td>\n",
       "      <td>7109.956910</td>\n",
       "      <td>0.999530</td>\n",
       "    </tr>\n",
       "    <tr>\n",
       "      <th>m[5,1]</th>\n",
       "      <td>0.445349</td>\n",
       "      <td>0.000061</td>\n",
       "      <td>0.004828</td>\n",
       "      <td>0.435793</td>\n",
       "      <td>0.442219</td>\n",
       "      <td>0.445472</td>\n",
       "      <td>0.448431</td>\n",
       "      <td>0.454824</td>\n",
       "      <td>6277.964294</td>\n",
       "      <td>0.999189</td>\n",
       "    </tr>\n",
       "    <tr>\n",
       "      <th>...</th>\n",
       "      <td>...</td>\n",
       "      <td>...</td>\n",
       "      <td>...</td>\n",
       "      <td>...</td>\n",
       "      <td>...</td>\n",
       "      <td>...</td>\n",
       "      <td>...</td>\n",
       "      <td>...</td>\n",
       "      <td>...</td>\n",
       "      <td>...</td>\n",
       "    </tr>\n",
       "    <tr>\n",
       "      <th>t[50]</th>\n",
       "      <td>0.317809</td>\n",
       "      <td>0.000239</td>\n",
       "      <td>0.019481</td>\n",
       "      <td>0.278758</td>\n",
       "      <td>0.304899</td>\n",
       "      <td>0.317177</td>\n",
       "      <td>0.330654</td>\n",
       "      <td>0.356616</td>\n",
       "      <td>6636.287878</td>\n",
       "      <td>0.999320</td>\n",
       "    </tr>\n",
       "    <tr>\n",
       "      <th>mu</th>\n",
       "      <td>0.658053</td>\n",
       "      <td>0.000303</td>\n",
       "      <td>0.026033</td>\n",
       "      <td>0.606262</td>\n",
       "      <td>0.641177</td>\n",
       "      <td>0.657821</td>\n",
       "      <td>0.675579</td>\n",
       "      <td>0.709322</td>\n",
       "      <td>7359.597701</td>\n",
       "      <td>0.999997</td>\n",
       "    </tr>\n",
       "    <tr>\n",
       "      <th>sigma</th>\n",
       "      <td>0.026483</td>\n",
       "      <td>0.000070</td>\n",
       "      <td>0.002833</td>\n",
       "      <td>0.021591</td>\n",
       "      <td>0.024557</td>\n",
       "      <td>0.026207</td>\n",
       "      <td>0.028198</td>\n",
       "      <td>0.032919</td>\n",
       "      <td>1647.784648</td>\n",
       "      <td>1.001069</td>\n",
       "    </tr>\n",
       "    <tr>\n",
       "      <th>omega</th>\n",
       "      <td>0.179170</td>\n",
       "      <td>0.000220</td>\n",
       "      <td>0.017797</td>\n",
       "      <td>0.147344</td>\n",
       "      <td>0.166783</td>\n",
       "      <td>0.177528</td>\n",
       "      <td>0.190634</td>\n",
       "      <td>0.217286</td>\n",
       "      <td>6554.701638</td>\n",
       "      <td>0.999341</td>\n",
       "    </tr>\n",
       "    <tr>\n",
       "      <th>lp__</th>\n",
       "      <td>600.769270</td>\n",
       "      <td>0.319399</td>\n",
       "      <td>10.356051</td>\n",
       "      <td>578.946790</td>\n",
       "      <td>594.241990</td>\n",
       "      <td>601.248040</td>\n",
       "      <td>608.107580</td>\n",
       "      <td>619.473846</td>\n",
       "      <td>1051.286953</td>\n",
       "      <td>1.001229</td>\n",
       "    </tr>\n",
       "  </tbody>\n",
       "</table>\n",
       "<p>154 rows × 10 columns</p>\n",
       "</div>"
      ],
      "text/plain": [
       "              mean   se_mean         sd        2.5%         25%         50%  \\\n",
       "m[1,1]    0.769922  0.000052   0.004178    0.761742    0.767105    0.769860   \n",
       "m[2,1]    0.741556  0.000054   0.004357    0.733079    0.738646    0.741571   \n",
       "m[3,1]    0.348951  0.000055   0.004644    0.339783    0.345847    0.348911   \n",
       "m[4,1]    0.832571  0.000045   0.003834    0.824728    0.830049    0.832618   \n",
       "m[5,1]    0.445349  0.000061   0.004828    0.435793    0.442219    0.445472   \n",
       "...            ...       ...        ...         ...         ...         ...   \n",
       "t[50]     0.317809  0.000239   0.019481    0.278758    0.304899    0.317177   \n",
       "mu        0.658053  0.000303   0.026033    0.606262    0.641177    0.657821   \n",
       "sigma     0.026483  0.000070   0.002833    0.021591    0.024557    0.026207   \n",
       "omega     0.179170  0.000220   0.017797    0.147344    0.166783    0.177528   \n",
       "lp__    600.769270  0.319399  10.356051  578.946790  594.241990  601.248040   \n",
       "\n",
       "               75%       97.5%        n_eff      Rhat  \n",
       "m[1,1]    0.772729    0.778237  6405.597741  0.999481  \n",
       "m[2,1]    0.744457    0.750064  6446.659013  0.999506  \n",
       "m[3,1]    0.352101    0.357833  7202.841830  0.999550  \n",
       "m[4,1]    0.835166    0.840062  7109.956910  0.999530  \n",
       "m[5,1]    0.448431    0.454824  6277.964294  0.999189  \n",
       "...            ...         ...          ...       ...  \n",
       "t[50]     0.330654    0.356616  6636.287878  0.999320  \n",
       "mu        0.675579    0.709322  7359.597701  0.999997  \n",
       "sigma     0.028198    0.032919  1647.784648  1.001069  \n",
       "omega     0.190634    0.217286  6554.701638  0.999341  \n",
       "lp__    608.107580  619.473846  1051.286953  1.001229  \n",
       "\n",
       "[154 rows x 10 columns]"
      ]
     },
     "execution_count": 3,
     "metadata": {},
     "output_type": "execute_result"
    }
   ],
   "source": [
    "sm = pystan.StanModel('../stan/website.stan') \n",
    "multiprocessing.set_start_method(\"fork\", force=True)\n",
    "fit = sm.sampling(data=d, iter=2000, chains=4, seed=19348)\n",
    "\n",
    "fit_summary = stan_model_summary(fit)\n",
    "fit_summary"
   ]
  },
  {
   "cell_type": "code",
   "execution_count": 4,
   "metadata": {},
   "outputs": [
    {
     "name": "stdout",
     "output_type": "stream",
     "text": [
      "0 of 4000 iterations saturated the maximum tree depth of 10 (0.0%)\n",
      "E-BFMI indicated no pathological behavior\n",
      "0.0 of 4000 iterations ended with a divergence (0.0%)\n"
     ]
    }
   ],
   "source": [
    "# MCMCM Diagnostics\n",
    "stan_utility.utils.check_treedepth(fit)\n",
    "stan_utility.utils.check_energy(fit)\n",
    "stan_utility.utils.check_div(fit)"
   ]
  },
  {
   "cell_type": "markdown",
   "metadata": {},
   "source": [
    "## Design Test & Roll"
   ]
  },
  {
   "cell_type": "code",
   "execution_count": 5,
   "metadata": {},
   "outputs": [],
   "source": [
    "# to replicate the exact results in the paper, use these rounded values\n",
    "mu = 0.68\n",
    "sigma = 0.03\n",
    "N = 100000"
   ]
  },
  {
   "cell_type": "code",
   "execution_count": 6,
   "metadata": {},
   "outputs": [
    {
     "name": "stdout",
     "output_type": "stream",
     "text": [
      "[2283.89002819 2283.89002819] \n",
      "\n",
      "{'n1': 2283.8900281944257, 'n2': 2283.8900281944257, 'profit_per_cust': 0.695359986175474, 'profit': 69535.9986175474, 'profit_test': 3106.090438344419, 'profit_deploy': 66429.90817920299, 'profit_rand': 68000.0, 'profit_perfect': 69692.56875064327, 'profit_gain': 0.9074955548858128, 'regret': 0.0022465828983297964, 'error_rate': 0.10012814134507947, 'deploy_1_rate': 0.5, 'tie_rate': 0.0}\n"
     ]
    }
   ],
   "source": [
    "# Profit-maximizing\n",
    "n_star = test_size_nn(N=N, s=np.sqrt(mu*(1-mu)), sigma=sigma)\n",
    "print(n_star, '\\n')\n",
    "\n",
    "ev = test_eval_nn(n=n_star, N=N, s=np.sqrt(mu*(1-mu)), mu=mu, sigma=sigma)\n",
    "print(ev)"
   ]
  },
  {
   "cell_type": "code",
   "execution_count": 7,
   "metadata": {},
   "outputs": [
    {
     "name": "stdout",
     "output_type": "stream",
     "text": [
      "[18467.95231612 18467.95231612] \n",
      "\n",
      "{'n1': 18467.9523161155, 'n2': 18467.9523161155, 'profit_per_cust': 0.6906048394929888, 'profit': 69060.48394929888, 'profit_test': 25116.415149917084, 'profit_deploy': 43944.0687993818, 'profit_rand': 68000.0, 'profit_perfect': 69692.56875064327, 'profit_gain': 0.6265529532527635, 'regret': 0.009069615493812022, 'error_rate': 0.03626305490143705, 'deploy_1_rate': 0.5, 'tie_rate': 0.0}\n"
     ]
    }
   ],
   "source": [
    "# Compare to standard NHT \n",
    "d = 0.68*0.02 # 2% lift \n",
    "n_nht = test_size_nht(s=np.sqrt(mu*(1-mu)), d=d) # to match the profit maximizing\n",
    "print(n_nht, '\\n')\n",
    "\n",
    "ev_nht = test_eval_nn(n=np.repeat(n_nht, 2), N=N, s=np.sqrt(mu*(1-mu)), mu=mu, sigma=sigma)\n",
    "print(ev_nht)"
   ]
  },
  {
   "cell_type": "code",
   "execution_count": 8,
   "metadata": {},
   "outputs": [
    {
     "name": "stdout",
     "output_type": "stream",
     "text": [
      "[13486.66533614 13486.66533614] \n",
      "\n",
      "{'n1': 13486.665336142949, 'n2': 13486.665336142949, 'profit_per_cust': 0.6922509412708583, 'profit': 69225.09412708583, 'profit_test': 18341.86485715441, 'profit_deploy': 50883.22926993142, 'profit_rand': 68000.0, 'profit_perfect': 69692.56875064327, 'profit_gain': 0.7238076010916692, 'regret': 0.006707668147949097, 'error_rate': 0.04236729587385757, 'deploy_1_rate': 0.5, 'tie_rate': 0.0}\n"
     ]
    }
   ],
   "source": [
    "# Compare to NHT with Finite Population Correction\n",
    "\n",
    "n_fpc = test_size_nht(s=np.sqrt(mu*(1-mu)), d=d, N=100000) # to match the profit maximizing\n",
    "print(n_fpc, '\\n')\n",
    "\n",
    "ev_fpc = test_eval_nn(n=np.repeat(n_fpc, 2), N=N, s=np.sqrt(mu*(1-mu)), mu=mu, sigma=sigma)\n",
    "print(ev_fpc)"
   ]
  },
  {
   "cell_type": "markdown",
   "metadata": {},
   "source": [
    "## Profit and error rate as a function of $n$ (Figure 3)"
   ]
  },
  {
   "cell_type": "code",
   "execution_count": 9,
   "metadata": {},
   "outputs": [
    {
     "data": {
      "text/plain": [
       "<matplotlib.legend.Legend at 0x7f895a911dc0>"
      ]
     },
     "execution_count": 9,
     "metadata": {},
     "output_type": "execute_result"
    },
    {
     "data": {
      "image/png": "[encoded data removed]",
      "text/plain": [
       "<Figure size 1440x576 with 2 Axes>"
      ]
     },
     "metadata": {},
     "output_type": "display_data"
    }
   ],
   "source": [
    "n = np.concatenate(\n",
    "    (np.linspace(1, 19, 19, endpoint=True), \n",
    "     np.linspace(20, 19*10, 18, endpoint=True),\n",
    "     np.linspace(200, 19*100, 18, endpoint=True),\n",
    "     np.linspace(2000, 19*1000, 18, endpoint=True),\n",
    "     np.linspace(20000, 50000, 4, endpoint=True),\n",
    "     ),\n",
    "    )\n",
    "out = list()\n",
    "\n",
    "for i in range(len(n)):\n",
    "    out.append(\n",
    "        test_eval_nn(n=np.repeat(n[i], 2), N=N, s=np.sqrt(mu*(1-mu)), mu=mu, sigma=sigma)\n",
    "        )\n",
    "out = pd.DataFrame(out)  \n",
    "\n",
    "fig, axs = plt.subplots(1,2, figsize=(20, 8), facecolor='w', edgecolor='k')\n",
    "        \n",
    "p = sns.lineplot(ax=axs[0], data=out, x=\"n1\", y=\"profit\", c= 'black')\n",
    "p.set_xlabel(r'Test Size $(n_1=n_2)$')\n",
    "p.set_ylabel(\"Expected Conversions\")\n",
    "p.axvline(n_star[0], c= 'g', label=r'$n*=2284$')\n",
    "p.axvline(n_fpc[0], c='b', linestyle='-.', label=r'$n_{FPC}$')\n",
    "p.axvline(n_nht[0], c='r', linestyle='--', label=r'$n_{NHT}$')\n",
    "p.legend()\n",
    "\n",
    "p = sns.lineplot(ax=axs[1], data=out, x=\"n1\", y=\"error_rate\", c= 'black')\n",
    "p.set_xlabel(r'Test Size $(n_1=n_2)$')\n",
    "p.set_ylabel(\"Error Rate\")\n",
    "p.axvline(n_star[0], c= 'g', label=r'$n*=2284$')\n",
    "p.axvline(n_fpc[0], c='b', linestyle='-.', label=r'$n_{FPC}$')\n",
    "p.axvline(n_nht[0], c='r', linestyle='--', label=r'$n_{NHT}$')\n",
    "p.legend()"
   ]
  },
  {
   "cell_type": "markdown",
   "metadata": {},
   "source": [
    "## Sample size sensitivities (Figure 4)"
   ]
  },
  {
   "cell_type": "code",
   "execution_count": 10,
   "metadata": {},
   "outputs": [
    {
     "data": {
      "text/plain": [
       "<matplotlib.legend.Legend at 0x7f895a571ca0>"
      ]
     },
     "execution_count": 10,
     "metadata": {},
     "output_type": "execute_result"
    },
    {
     "data": {
      "image/png": "[encoded data removed]",
      "text/plain": [
       "<Figure size 432x288 with 1 Axes>"
      ]
     },
     "metadata": {},
     "output_type": "display_data"
    }
   ],
   "source": [
    "# Optimal sample sizes for different N \n",
    "N = np.concatenate(\n",
    "    (np.linspace(100, 1000, 10, endpoint=True), \n",
    "     np.linspace(2000, 10000*1000, 10000, endpoint=True),\n",
    "     ),\n",
    "    )\n",
    "\n",
    "tr = np.zeros((len(N)))\n",
    "fpc = np.zeros((len(N)))\n",
    "for i in range(len(N)):   \n",
    "    tr [i] = test_size_nn(N = N[i], s=np.sqrt(mu*(1-mu)), mu=mu, sigma=sigma)[0] #test-roll\n",
    "    fpc[i] = test_size_nht(s=np.sqrt(mu*(1-mu)), d=d, conf=0.95, power=0.8, N=N[i])[0]\n",
    "    \n",
    "out2 = pd.DataFrame({'N':N/1000000, 'tr':tr, 'fpc':fpc, 'nht': n_nht[0]})    \n",
    "\n",
    "fig, ax = plt.subplots()\n",
    "p = sns.lineplot(data=out2, x=\"N\", y=\"tr\", c= 'g', label =r'$n*$')\n",
    "p = sns.lineplot(data=out2, x=\"N\", y=\"fpc\", c= 'b', linestyle='-.', label =r'$n_{FPC}$')\n",
    "p = sns.lineplot(data=out2, x=\"N\", y=\"nht\", c= 'r', linestyle='--', label =r'$n_{NHT}$')\n",
    "p.set_xlabel('Population Size (N, millions)')\n",
    "p.set_ylabel(\"Test Size\")\n",
    "p.legend()"
   ]
  },
  {
   "cell_type": "code",
   "execution_count": 11,
   "metadata": {},
   "outputs": [
    {
     "data": {
      "text/plain": [
       "[(0.0, 25000.0)]"
      ]
     },
     "execution_count": 11,
     "metadata": {},
     "output_type": "execute_result"
    },
    {
     "data": {
      "image/png": "[encoded data removed]",
      "text/plain": [
       "<Figure size 432x288 with 1 Axes>"
      ]
     },
     "metadata": {},
     "output_type": "display_data"
    }
   ],
   "source": [
    "# Optimal sample sizes for different sigma\n",
    "N=100000\n",
    "sigma = np.linspace(0.001, 0.19, 190, endpoint=True)\n",
    "d = norm.ppf(q=0.5+0.125, loc=0, scale=np.sqrt(2)*sigma) #25th percentile of prior on te\n",
    "tr = np.zeros((len(sigma)))\n",
    "fpc = np.zeros((len(sigma)))\n",
    "nht = np.zeros((len(sigma)))\n",
    "\n",
    "for i in range(len(sigma)):\n",
    "    tr[i] = test_size_nn(N, s=np.sqrt(mu*(1-mu)), sigma=sigma[i])[0]\n",
    "    fpc[i] = test_size_nht(s=np.sqrt(mu*(1-mu)), d=d[i], conf=0.95, power=0.8, N=N)[0]\n",
    "    nht[i] = test_size_nht(s=np.sqrt(mu*(1-mu)), d=d[i], conf=0.95, power=0.8)[0]\n",
    "out3 = pd.DataFrame({'sigma':sigma, 'tr':tr, 'fpc':fpc, 'nht': nht})    \n",
    "\n",
    "  \n",
    "fig, ax = plt.subplots()\n",
    "p = sns.lineplot(data=out3, x=\"sigma\", y=\"tr\", c= 'g', label =r'$n*$')\n",
    "p = sns.lineplot(data=out3, x=\"sigma\", y=\"fpc\", c= 'b', linestyle='-.', label =r'$n_{FPC}$')\n",
    "p = sns.lineplot(data=out3, x=\"sigma\", y=\"nht\", c= 'r', linestyle='--', label =r'$n_{NHT}$')\n",
    "p.set_xlabel(r'Std.Dev. of Prior $(\\sigma)$')\n",
    "p.set_ylabel(\"Test Size\")\n",
    "p.legend()\n",
    "p.set(ylim=(0, 25000))"
   ]
  },
  {
   "cell_type": "code",
   "execution_count": 12,
   "metadata": {},
   "outputs": [
    {
     "data": {
      "text/plain": [
       "[(0.0, 25000.0)]"
      ]
     },
     "execution_count": 12,
     "metadata": {},
     "output_type": "execute_result"
    },
    {
     "data": {
      "image/png": "[encoded data removed]",
      "text/plain": [
       "<Figure size 432x288 with 1 Axes>"
      ]
     },
     "metadata": {},
     "output_type": "display_data"
    }
   ],
   "source": [
    "# Optimal sample sizes for different s\n",
    "\n",
    "N = 100000\n",
    "sigma = 0.03\n",
    "d = 0.68*0.02\n",
    "s = np.linspace(0.001, 0.7, 350, endpoint=True)\n",
    "tr = np.zeros((len(s)))\n",
    "fpc = np.zeros((len(s)))\n",
    "nht = np.zeros((len(s)))\n",
    "for i in range(len(s)):\n",
    "    tr[i] = test_size_nn(N, s=s[i], sigma=sigma)[0]\n",
    "    fpc[i] = test_size_nht(s=s[i], d=d, conf=0.95, power=0.8, N=100000)[0]\n",
    "    nht[i] = test_size_nht(s[i], d=d, conf=0.95, power=0.8)[0]\n",
    "out4 = pd.DataFrame({'s':s, 'tr':tr, 'fpc':fpc, 'nht': nht})    \n",
    "\n",
    "\n",
    "fig, ax = plt.subplots()\n",
    "p = sns.lineplot(data=out4, x=\"s\", y=\"tr\", c= 'g', label =r'$n*$')\n",
    "p = sns.lineplot(data=out4, x=\"s\", y=\"fpc\", c= 'b', linestyle='-.', label =r'$n_{FPC}$')\n",
    "p = sns.lineplot(data=out4, x=\"s\", y=\"nht\", c= 'r', linestyle='--', label =r'$n_{NHT}$')\n",
    "p.set_xlabel(r'Std.Dev. of Response $(s)$')\n",
    "p.set_ylabel(\"Test Size\")\n",
    "p.legend()\n",
    "p.set(ylim=(0, 25000))"
   ]
  },
  {
   "cell_type": "markdown",
   "metadata": {},
   "source": [
    "## Regret distribution and comparison with Thompson Sampling "
   ]
  },
  {
   "cell_type": "code",
   "execution_count": 13,
   "metadata": {},
   "outputs": [],
   "source": [
    "s = mu*(1-mu) # should this be sqrt?\n",
    "out = profit_nn_sim(n=n_star, N=N, s=s, mu=mu, sigma=sigma, K=2, TS=True, R=10000)"
   ]
  },
  {
   "cell_type": "code",
   "execution_count": 14,
   "metadata": {},
   "outputs": [
    {
     "data": {
      "text/html": [
       "<div>\n",
       "<style scoped>\n",
       "    .dataframe tbody tr th:only-of-type {\n",
       "        vertical-align: middle;\n",
       "    }\n",
       "\n",
       "    .dataframe tbody tr th {\n",
       "        vertical-align: top;\n",
       "    }\n",
       "\n",
       "    .dataframe thead th {\n",
       "        text-align: right;\n",
       "    }\n",
       "</style>\n",
       "<table border=\"1\" class=\"dataframe\">\n",
       "  <thead>\n",
       "    <tr style=\"text-align: right;\">\n",
       "      <th></th>\n",
       "      <th></th>\n",
       "      <th>perfect_info</th>\n",
       "      <th>test_roll</th>\n",
       "      <th>TS</th>\n",
       "    </tr>\n",
       "  </thead>\n",
       "  <tbody>\n",
       "    <tr>\n",
       "      <th>0</th>\n",
       "      <td>mean_profit</td>\n",
       "      <td>0.697279</td>\n",
       "      <td>0.696323</td>\n",
       "      <td>0.697065</td>\n",
       "    </tr>\n",
       "    <tr>\n",
       "      <th>1</th>\n",
       "      <td>5%</td>\n",
       "      <td>0.657392</td>\n",
       "      <td>0.656769</td>\n",
       "      <td>0.657140</td>\n",
       "    </tr>\n",
       "    <tr>\n",
       "      <th>2</th>\n",
       "      <td>95%</td>\n",
       "      <td>0.738902</td>\n",
       "      <td>0.737654</td>\n",
       "      <td>0.738813</td>\n",
       "    </tr>\n",
       "  </tbody>\n",
       "</table>\n",
       "</div>"
      ],
      "text/plain": [
       "                perfect_info  test_roll        TS\n",
       "0  mean_profit      0.697279   0.696323  0.697065\n",
       "1           5%      0.657392   0.656769  0.657140\n",
       "2          95%      0.738902   0.737654  0.738813"
      ]
     },
     "execution_count": 14,
     "metadata": {},
     "output_type": "execute_result"
    }
   ],
   "source": [
    "out['profit']"
   ]
  },
  {
   "cell_type": "code",
   "execution_count": 15,
   "metadata": {},
   "outputs": [
    {
     "data": {
      "text/html": [
       "<div>\n",
       "<style scoped>\n",
       "    .dataframe tbody tr th:only-of-type {\n",
       "        vertical-align: middle;\n",
       "    }\n",
       "\n",
       "    .dataframe tbody tr th {\n",
       "        vertical-align: top;\n",
       "    }\n",
       "\n",
       "    .dataframe thead th {\n",
       "        text-align: right;\n",
       "    }\n",
       "</style>\n",
       "<table border=\"1\" class=\"dataframe\">\n",
       "  <thead>\n",
       "    <tr style=\"text-align: right;\">\n",
       "      <th></th>\n",
       "      <th></th>\n",
       "      <th>perfect_info</th>\n",
       "      <th>test_roll</th>\n",
       "      <th>TS</th>\n",
       "    </tr>\n",
       "  </thead>\n",
       "  <tbody>\n",
       "    <tr>\n",
       "      <th>0</th>\n",
       "      <td>mean_profit</td>\n",
       "      <td>0.0</td>\n",
       "      <td>0.001363</td>\n",
       "      <td>0.000310</td>\n",
       "    </tr>\n",
       "    <tr>\n",
       "      <th>1</th>\n",
       "      <td>5%</td>\n",
       "      <td>0.0</td>\n",
       "      <td>0.000100</td>\n",
       "      <td>0.000057</td>\n",
       "    </tr>\n",
       "    <tr>\n",
       "      <th>2</th>\n",
       "      <td>95%</td>\n",
       "      <td>0.0</td>\n",
       "      <td>0.003127</td>\n",
       "      <td>0.000890</td>\n",
       "    </tr>\n",
       "  </tbody>\n",
       "</table>\n",
       "</div>"
      ],
      "text/plain": [
       "                perfect_info  test_roll        TS\n",
       "0  mean_profit           0.0   0.001363  0.000310\n",
       "1           5%           0.0   0.000100  0.000057\n",
       "2          95%           0.0   0.003127  0.000890"
      ]
     },
     "execution_count": 15,
     "metadata": {},
     "output_type": "execute_result"
    }
   ],
   "source": [
    "out['regret']"
   ]
  },
  {
   "cell_type": "code",
   "execution_count": 16,
   "metadata": {},
   "outputs": [
    {
     "data": {
      "text/plain": [
       "{'profit':                 perfect_info  test_roll        TS\n",
       " 0  mean_profit      0.697279   0.696323  0.697065\n",
       " 1           5%      0.657392   0.656769  0.657140\n",
       " 2          95%      0.738902   0.737654  0.738813,\n",
       " 'regret':                 perfect_info  test_roll        TS\n",
       " 0  mean_profit           0.0   0.001363  0.000310\n",
       " 1           5%           0.0   0.000100  0.000057\n",
       " 2          95%           0.0   0.003127  0.000890,\n",
       " 'error_rate': 0.0466,\n",
       " 'deploy_1_rate': 0.5027,\n",
       " 'profit_draws':       perfect_info     test_roll     thom_samp  error  deploy_1\n",
       " 0     72587.200088  72558.247496  72572.033035  False      True\n",
       " 1     70175.274138  70159.202698  70137.254525  False     False\n",
       " 2     67725.092679  67669.245177  67714.407391  False      True\n",
       " 3     69471.381405  68398.745679  69426.197698   True      True\n",
       " 4     70902.650948  70868.442230  70882.975472  False      True\n",
       " ...            ...           ...           ...    ...       ...\n",
       " 9995  69366.646548  69295.907131  69353.430426  False      True\n",
       " 9996  68154.979139  68109.940376  68134.314737  False     False\n",
       " 9997  67841.925617  67823.256636  67814.807747  False     False\n",
       " 9998  66627.857834  66537.555956  66609.697380  False      True\n",
       " 9999  71371.125917  71174.532615  71366.674078  False      True\n",
       " \n",
       " [10000 rows x 5 columns],\n",
       " 'regret_draws':       perfect_info  test_roll  thom_samp\n",
       " 0              0.0   0.000399   0.000209\n",
       " 1              0.0   0.000229   0.000542\n",
       " 2              0.0   0.000825   0.000158\n",
       " 3              0.0   0.015440   0.000650\n",
       " 4              0.0   0.000482   0.000277\n",
       " ...            ...        ...        ...\n",
       " 9995           0.0   0.001020   0.000191\n",
       " 9996           0.0   0.000661   0.000303\n",
       " 9997           0.0   0.000275   0.000400\n",
       " 9998           0.0   0.001355   0.000273\n",
       " 9999           0.0   0.002755   0.000062\n",
       " \n",
       " [10000 rows x 3 columns]}"
      ]
     },
     "execution_count": 16,
     "metadata": {},
     "output_type": "execute_result"
    }
   ],
   "source": [
    "out"
   ]
  },
  {
   "cell_type": "code",
   "execution_count": null,
   "metadata": {},
   "outputs": [],
   "source": []
  }
 ],
 "metadata": {
  "kernelspec": {
   "display_name": "Python 3",
   "language": "python",
   "name": "python3"
  },
  "language_info": {
   "codemirror_mode": {
    "name": "ipython",
    "version": 3
   },
   "file_extension": ".py",
   "mimetype": "text/x-python",
   "name": "python",
   "nbconvert_exporter": "python",
   "pygments_lexer": "ipython3",
   "version": "3.8.3"
  }
 },
 "nbformat": 4,
 "nbformat_minor": 4
}
