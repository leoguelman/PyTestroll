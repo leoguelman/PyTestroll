{
 "cells": [
  {
   "cell_type": "markdown",
   "id": "cb5bcbca",
   "metadata": {},
   "source": [
    "# Test & Roll: Website Example\n",
    "\n",
    "Meta-analysis and test & roll design for website example (Elea McDonnell Feit & Ron Berman)"
   ]
  },
  {
   "cell_type": "markdown",
   "id": "2c140f76",
   "metadata": {},
   "source": [
    "## Imports"
   ]
  },
  {
   "cell_type": "code",
   "execution_count": 1,
   "id": "060eaefe",
   "metadata": {},
   "outputs": [],
   "source": [
    "import numpy as np\n",
    "import pandas as pd\n",
    "from scipy.stats import norm\n",
    "import seaborn as sns\n",
    "import matplotlib.pyplot as plt\n",
    "sns.set()\n",
    "import warnings\n",
    "warnings.filterwarnings('ignore')\n",
    "\n",
    "import pystan\n",
    "import multiprocessing\n",
    "import stan_utility\n",
    "\n",
    "from pytestroll.pytestroll import (\n",
    "    NHST,\n",
    "    TestRoll\n",
    "    )\n",
    "\n",
    "from pytestroll.utils import (\n",
    "    stan_model_summary\n",
    "    )"
   ]
  },
  {
   "cell_type": "markdown",
   "id": "243ec8a0",
   "metadata": {},
   "source": [
    "## Generate synthetic data"
   ]
  },
  {
   "cell_type": "code",
   "execution_count": 2,
   "id": "339537ee",
   "metadata": {},
   "outputs": [],
   "source": [
    "def generate_syn_expt(nexpt, nobs, mu, sigma, omega, seed=42):\n",
    "    \n",
    "    np.random.seed(seed)\n",
    "    \n",
    "    nobs = np.full((nexpt, 2), nobs, dtype=int)\n",
    "    y = np.zeros(shape=(nexpt,2))\n",
    "   \n",
    "    for e in range(nexpt):\n",
    "        t =  np.random.normal(mu, omega, size=1)\n",
    "        m =  np.random.normal(t, sigma, size=2)\n",
    "           \n",
    "        while np.min(np.concatenate((t, m))) < 0 or np.max(np.concatenate((t, m))) > 1:\n",
    "            t =  np.random.normal(mu, omega, size=1)\n",
    "            m =  np.random.normal(t, sigma, size=2)    \n",
    "     \n",
    "        y[e, 0] = np.mean(np.random.normal(m[0], np.sqrt(m[0]*(1-m[0])), nobs[e,0]))\n",
    "        y[e, 1] = np.mean(np.random.normal(m[1], np.sqrt(m[1]*(1-m[1])), nobs[e,1]))\n",
    "          \n",
    "    return {\"nexpt\": nexpt, \"y\":y, \"nobs\":nobs}\n",
    "\n",
    "\n",
    "d = generate_syn_expt(nexpt=50, nobs=10000, mu=0.676, sigma=0.030, omega=0.199)"
   ]
  },
  {
   "cell_type": "markdown",
   "id": "61077800",
   "metadata": {},
   "source": [
    "## Meta-analysis of website test data"
   ]
  },
  {
   "cell_type": "code",
   "execution_count": 3,
   "id": "29741702",
   "metadata": {},
   "outputs": [
    {
     "name": "stderr",
     "output_type": "stream",
     "text": [
      "INFO:pystan:COMPILING THE C++ CODE FOR MODEL anon_model_484bd5f15ab2de104a8e26e411217e60 NOW.\n",
      "clang-10: warning: -Wl,-export_dynamic: 'linker' input unused [-Wunused-command-line-argument]\n",
      "In file included from /var/folders/kw/_5nyl9vx5pn29m885dzd3hkm0000gn/T/pystan_z7dt4f25/stanfit4anon_model_484bd5f15ab2de104a8e26e411217e60_8164151137522739867.cpp:62:\n",
      "/Users/lguelman/opt/anaconda3/envs/pytestroll/include/python3.8/Python.h:14:2: error: \"Something's broken.  UCHAR_MAX should be defined in limits.h.\"\n",
      "#error \"Something's broken.  UCHAR_MAX should be defined in limits.h.\"\n",
      " ^\n",
      "/Users/lguelman/opt/anaconda3/envs/pytestroll/include/python3.8/Python.h:18:2: error: \"Python's source code assumes C's unsigned char is an 8-bit type.\"\n",
      "#error \"Python's source code assumes C's unsigned char is an 8-bit type.\"\n",
      " ^\n",
      "/Users/lguelman/opt/anaconda3/envs/pytestroll/include/python3.8/Python.h:27:5: error: \"Python.h requires that stdio.h define NULL.\"\n",
      "#   error \"Python.h requires that stdio.h define NULL.\"\n",
      "    ^\n",
      "In file included from /var/folders/kw/_5nyl9vx5pn29m885dzd3hkm0000gn/T/pystan_z7dt4f25/stanfit4anon_model_484bd5f15ab2de104a8e26e411217e60_8164151137522739867.cpp:62:\n",
      "In file included from /Users/lguelman/opt/anaconda3/envs/pytestroll/include/python3.8/Python.h:30:\n",
      "/Users/lguelman/opt/anaconda3/envs/pytestroll/bin/../include/c++/v1/string.h:73:64: error: use of undeclared identifier 'strchr'\n",
      "char* __libcpp_strchr(const char* __s, int __c) {return (char*)strchr(__s, __c);}\n",
      "                                                               ^\n",
      "/Users/lguelman/opt/anaconda3/envs/pytestroll/bin/../include/c++/v1/string.h:80:75: error: use of undeclared identifier 'strpbrk'\n",
      "char* __libcpp_strpbrk(const char* __s1, const char* __s2) {return (char*)strpbrk(__s1, __s2);}\n",
      "                                                                          ^\n",
      "/Users/lguelman/opt/anaconda3/envs/pytestroll/bin/../include/c++/v1/string.h:87:65: error: use of undeclared identifier 'strrchr'; did you mean 'strchr'?\n",
      "char* __libcpp_strrchr(const char* __s, int __c) {return (char*)strrchr(__s, __c);}\n",
      "                                                                ^\n",
      "/Users/lguelman/opt/anaconda3/envs/pytestroll/bin/../include/c++/v1/string.h:75:13: note: 'strchr' declared here\n",
      "const char* strchr(const char* __s, int __c) {return __libcpp_strchr(__s, __c);}\n",
      "            ^\n",
      "/Users/lguelman/opt/anaconda3/envs/pytestroll/bin/../include/c++/v1/string.h:94:49: error: unknown type name 'size_t'\n",
      "void* __libcpp_memchr(const void* __s, int __c, size_t __n) {return (void*)memchr(__s, __c, __n);}\n",
      "                                                ^\n",
      "/Users/lguelman/opt/anaconda3/envs/pytestroll/bin/../include/c++/v1/string.h:96:46: error: unknown type name 'size_t'\n",
      "const void* memchr(const void* __s, int __c, size_t __n) {return __libcpp_memchr(__s, __c, __n);}\n",
      "                                             ^\n",
      "/Users/lguelman/opt/anaconda3/envs/pytestroll/bin/../include/c++/v1/string.h:98:46: error: unknown type name 'size_t'\n",
      "      void* memchr(      void* __s, int __c, size_t __n) {return __libcpp_memchr(__s, __c, __n);}\n",
      "                                             ^\n",
      "/Users/lguelman/opt/anaconda3/envs/pytestroll/bin/../include/c++/v1/string.h:101:74: error: use of undeclared identifier 'strstr'; did you mean 'strchr'?\n",
      "char* __libcpp_strstr(const char* __s1, const char* __s2) {return (char*)strstr(__s1, __s2);}\n",
      "                                                                         ^\n",
      "/Users/lguelman/opt/anaconda3/envs/pytestroll/bin/../include/c++/v1/string.h:77:13: note: 'strchr' declared here\n",
      "      char* strchr(      char* __s, int __c) {return __libcpp_strchr(__s, __c);}\n",
      "            ^\n",
      "/Users/lguelman/opt/anaconda3/envs/pytestroll/bin/../include/c++/v1/string.h:101:74: error: no matching function for call to 'strchr'\n",
      "char* __libcpp_strstr(const char* __s1, const char* __s2) {return (char*)strstr(__s1, __s2);}\n",
      "                                                                         ^\n",
      "/Users/lguelman/opt/anaconda3/envs/pytestroll/bin/../include/c++/v1/string.h:77:13: note: candidate disabled: <no message provided>\n",
      "      char* strchr(      char* __s, int __c) {return __libcpp_strchr(__s, __c);}\n",
      "            ^\n",
      "/Users/lguelman/opt/anaconda3/envs/pytestroll/bin/../include/c++/v1/string.h:101:81: error: cannot initialize a parameter of type 'char *' with an lvalue of type 'const char *'\n",
      "char* __libcpp_strstr(const char* __s1, const char* __s2) {return (char*)strstr(__s1, __s2);}\n",
      "                                                                                ^~~~\n",
      "/Users/lguelman/opt/anaconda3/envs/pytestroll/bin/../include/c++/v1/string.h:77:32: note: passing argument to parameter '__s' here\n",
      "      char* strchr(      char* __s, int __c) {return __libcpp_strchr(__s, __c);}\n",
      "                               ^\n",
      "In file included from /var/folders/kw/_5nyl9vx5pn29m885dzd3hkm0000gn/T/pystan_z7dt4f25/stanfit4anon_model_484bd5f15ab2de104a8e26e411217e60_8164151137522739867.cpp:62:\n",
      "In file included from /Users/lguelman/opt/anaconda3/envs/pytestroll/include/python3.8/Python.h:34:\n",
      "/Users/lguelman/opt/anaconda3/envs/pytestroll/bin/../include/c++/v1/stdlib.h:142:34: error: unknown type name 'ldiv_t'\n",
      "inline _LIBCPP_INLINE_VISIBILITY ldiv_t div(long __x, long __y) _NOEXCEPT {\n",
      "                                 ^\n",
      "/Users/lguelman/opt/anaconda3/envs/pytestroll/bin/../include/c++/v1/stdlib.h:143:12: error: no member named 'ldiv' in the global namespace\n",
      "  return ::ldiv(__x, __y);\n",
      "         ~~^\n",
      "/Users/lguelman/opt/anaconda3/envs/pytestroll/bin/../include/c++/v1/stdlib.h:146:34: error: unknown type name 'lldiv_t'\n",
      "inline _LIBCPP_INLINE_VISIBILITY lldiv_t div(long long __x,\n",
      "                                 ^\n",
      "/Users/lguelman/opt/anaconda3/envs/pytestroll/bin/../include/c++/v1/stdlib.h:148:12: error: no member named 'lldiv' in the global namespace\n",
      "  return ::lldiv(__x, __y);\n",
      "         ~~^\n",
      "In file included from /var/folders/kw/_5nyl9vx5pn29m885dzd3hkm0000gn/T/pystan_z7dt4f25/stanfit4anon_model_484bd5f15ab2de104a8e26e411217e60_8164151137522739867.cpp:62:\n",
      "In file included from /Users/lguelman/opt/anaconda3/envs/pytestroll/include/python3.8/Python.h:63:\n",
      "In file included from /Users/lguelman/opt/anaconda3/envs/pytestroll/include/python3.8/pyport.h:212:\n",
      "/Users/lguelman/opt/anaconda3/envs/pytestroll/bin/../include/c++/v1/math.h:771:93: error: no member named 'acosf' in the global namespace; did you mean 'acos'?\n",
      "inline _LIBCPP_INLINE_VISIBILITY float       acos(float __lcpp_x) _NOEXCEPT       {return ::acosf(__lcpp_x);}\n",
      "                                                                                          ~~^\n",
      "/Users/lguelman/opt/anaconda3/envs/pytestroll/bin/../include/c++/v1/math.h:771:46: note: 'acos' declared here\n",
      "inline _LIBCPP_INLINE_VISIBILITY float       acos(float __lcpp_x) _NOEXCEPT       {return ::acosf(__lcpp_x);}\n",
      "                                             ^\n",
      "/Users/lguelman/opt/anaconda3/envs/pytestroll/bin/../include/c++/v1/math.h:772:93: error: no member named 'acosl' in the global namespace; did you mean 'acos'?\n",
      "inline _LIBCPP_INLINE_VISIBILITY long double acos(long double __lcpp_x) _NOEXCEPT {return ::acosl(__lcpp_x);}\n",
      "                                                                                          ~~^\n",
      "/Users/lguelman/opt/anaconda3/envs/pytestroll/bin/../include/c++/v1/math.h:771:46: note: 'acos' declared here\n",
      "inline _LIBCPP_INLINE_VISIBILITY float       acos(float __lcpp_x) _NOEXCEPT       {return ::acosf(__lcpp_x);}\n",
      "                                             ^\n",
      "/Users/lguelman/opt/anaconda3/envs/pytestroll/bin/../include/c++/v1/math.h:778:38: error: call to 'acos' is ambiguous\n",
      "acos(_A1 __lcpp_x) _NOEXCEPT {return ::acos((double)__lcpp_x);}\n",
      "                                     ^~~~~~\n",
      "/Users/lguelman/opt/anaconda3/envs/pytestroll/bin/../include/c++/v1/math.h:771:46: note: candidate function\n",
      "inline _LIBCPP_INLINE_VISIBILITY float       acos(float __lcpp_x) _NOEXCEPT       {return ::acosf(__lcpp_x);}\n",
      "                                             ^\n",
      "/Users/lguelman/opt/anaconda3/envs/pytestroll/bin/../include/c++/v1/math.h:772:46: note: candidate function\n",
      "inline _LIBCPP_INLINE_VISIBILITY long double acos(long double __lcpp_x) _NOEXCEPT {return ::acosl(__lcpp_x);}\n",
      "                                             ^\n",
      "fatal error: too many errors emitted, stopping now [-ferror-limit=]\n"
     ]
    },
    {
     "name": "stderr",
     "output_type": "stream",
     "text": [
      "Stack dump:\n",
      "0.\tProgram arguments: /Users/lguelman/opt/anaconda3/envs/pytestroll/bin/x86_64-apple-darwin13.4.0-clang -fno-strict-aliasing -Wsign-compare -Wunreachable-code -DNDEBUG -fwrapv -O3 -Wall -Wstrict-prototypes -march=core2 -mtune=haswell -mssse3 -ftree-vectorize -fPIC -fPIE -fstack-protector-strong -O3 -pipe -fdebug-prefix-map=${SRC_DIR}=/usr/local/src/conda/${PKG_NAME}-${PKG_VERSION} -fdebug-prefix-map=/Users/lguelman/opt/anaconda3/envs/pytestroll=/usr/local/src/conda-prefix -flto -Wl,-export_dynamic -march=core2 -mtune=haswell -mssse3 -ftree-vectorize -fPIC -fPIE -fstack-protector-strong -O3 -march=core2 -mtune=haswell -mssse3 -ftree-vectorize -fPIC -fPIE -fstack-protector-strong -O2 -pipe -isystem /Users/lguelman/opt/anaconda3/envs/pytestroll/include -D_FORTIFY_SOURCE=2 -mmacosx-version-min=10.9 -isystem /Users/lguelman/opt/anaconda3/envs/pytestroll/include -DBOOST_RESULT_OF_USE_TR1 -DBOOST_NO_DECLTYPE -DBOOST_DISABLE_ASSERTS -I/var/folders/kw/_5nyl9vx5pn29m885dzd3hkm0000gn/T/pystan_z7dt4f25 -I/Users/lguelman/opt/anaconda3/envs/pytestroll/lib/python3.8/site-packages/pystan -I/Users/lguelman/opt/anaconda3/envs/pytestroll/lib/python3.8/site-packages/pystan/stan/src -I/Users/lguelman/opt/anaconda3/envs/pytestroll/lib/python3.8/site-packages/pystan/stan/lib/stan_math -I/Users/lguelman/opt/anaconda3/envs/pytestroll/lib/python3.8/site-packages/pystan/stan/lib/stan_math/lib/eigen_3.3.3 -I/Users/lguelman/opt/anaconda3/envs/pytestroll/lib/python3.8/site-packages/pystan/stan/lib/stan_math/lib/boost_1.69.0 -I/Users/lguelman/opt/anaconda3/envs/pytestroll/lib/python3.8/site-packages/pystan/stan/lib/stan_math/lib/sundials_4.1.0/include -I/Users/lguelman/opt/anaconda3/envs/pytestroll/lib/python3.8/site-packages/numpy/core/include -I/Users/lguelman/opt/anaconda3/envs/pytestroll/include/python3.8 -c /var/folders/kw/_5nyl9vx5pn29m885dzd3hkm0000gn/T/pystan_z7dt4f25/stanfit4anon_model_484bd5f15ab2de104a8e26e411217e60_8164151137522739867.cpp -o /var/folders/kw/_5nyl9vx5pn29m885dzd3hkm0000gn/T/pystan_z7dt4f25/var/folders/kw/_5nyl9vx5pn29m885dzd3hkm0000gn/T/pystan_z7dt4f25/stanfit4anon_model_484bd5f15ab2de104a8e26e411217e60_8164151137522739867.o -O2 -ftemplate-depth-256 -Wno-unused-function -Wno-uninitialized -std=c++1y \n",
      "1.\t/Users/lguelman/opt/anaconda3/envs/pytestroll/lib/python3.8/site-packages/pystan/stan/lib/stan_math/lib/boost_1.69.0/boost/units/detail/static_rational_power.hpp:169:74: current parser token 'type'\n",
      "2.\t/Users/lguelman/opt/anaconda3/envs/pytestroll/lib/python3.8/site-packages/pystan/stan/lib/stan_math/lib/boost_1.69.0/boost/units/detail/static_rational_power.hpp:19:1: parsing namespace 'boost'\n",
      "3.\t/Users/lguelman/opt/anaconda3/envs/pytestroll/lib/python3.8/site-packages/pystan/stan/lib/stan_math/lib/boost_1.69.0/boost/units/detail/static_rational_power.hpp:21:1: parsing namespace 'boost::units'\n",
      "4.\t/Users/lguelman/opt/anaconda3/envs/pytestroll/lib/python3.8/site-packages/pystan/stan/lib/stan_math/lib/boost_1.69.0/boost/units/detail/static_rational_power.hpp:26:1: parsing namespace 'boost::units::detail'\n",
      "5.\t/Users/lguelman/opt/anaconda3/envs/pytestroll/lib/python3.8/site-packages/pystan/stan/lib/stan_math/lib/boost_1.69.0/boost/units/detail/static_rational_power.hpp:163:1: parsing struct/union/class body 'boost::units::detail::static_int_power_sign_impl<N, true>'\n",
      "6.\t/Users/lguelman/opt/anaconda3/envs/pytestroll/lib/python3.8/site-packages/pystan/stan/lib/stan_math/lib/boost_1.69.0/boost/units/detail/static_rational_power.hpp:166:5: parsing struct/union/class body 'boost::units::detail::static_int_power_sign_impl<N, true>::apply'\n",
      "0  libLLVM-10.dylib                0x000000010a368765 llvm::sys::PrintStackTrace(llvm::raw_ostream&) + 37\n",
      "1  libLLVM-10.dylib                0x000000010a367668 llvm::sys::RunSignalHandlers() + 248\n",
      "2  libLLVM-10.dylib                0x000000010a367d32 llvm::sys::CleanupOnSignal(unsigned long) + 210\n",
      "3  libLLVM-10.dylib                0x000000010a2ab5ad CrashRecoverySignalHandler(int) + 189\n",
      "4  libsystem_platform.dylib        0x00007fff20713d7d _sigtramp + 29\n",
      "5  libsystem_platform.dylib        0x00007fbeec98e098 _sigtramp + 18446743797961827128\n",
      "6  libclang-cpp.10.dylib           0x000000010850eeae clang::Sema::CheckTemplateArgument(clang::TemplateTypeParmDecl*, clang::TypeSourceInfo*) + 206\n",
      "7  libclang-cpp.10.dylib           0x00000001085292dd clang::Sema::CheckTemplateTypeArgument(clang::TemplateTypeParmDecl*, clang::TemplateArgumentLoc&, llvm::SmallVectorImpl<clang::TemplateArgument>&) + 1981\n",
      "8  libclang-cpp.10.dylib           0x000000010851d9bf clang::Sema::CheckTemplateArgumentList(clang::TemplateDecl*, clang::SourceLocation, clang::TemplateArgumentListInfo&, bool, llvm::SmallVectorImpl<clang::TemplateArgument>&, bool, bool*) + 975\n",
      "9  libclang-cpp.10.dylib           0x000000010851c245 clang::Sema::CheckTemplateIdType(clang::TemplateName, clang::SourceLocation, clang::TemplateArgumentListInfo&) + 741\n",
      "10 libclang-cpp.10.dylib           0x0000000107f9c8af clang::Sema::ActOnCXXNestedNameSpecifier(clang::Scope*, clang::CXXScopeSpec&, clang::SourceLocation, clang::OpaquePtr<clang::TemplateName>, clang::SourceLocation, clang::SourceLocation, llvm::MutableArrayRef<clang::ParsedTemplateArgument>, clang::SourceLocation, clang::SourceLocation, bool) + 1695\n",
      "11 libclang-cpp.10.dylib           0x0000000107985592 clang::Parser::ParseOptionalCXXScopeSpecifier(clang::CXXScopeSpec&, clang::OpaquePtr<clang::QualType>, bool, bool*, bool, clang::IdentifierInfo**, bool, bool) + 1778\n",
      "12 libclang-cpp.10.dylib           0x00000001079f28b2 clang::Parser::TryAnnotateTypeOrScopeToken() + 194\n",
      "13 libclang-cpp.10.dylib           0x000000010793f16a clang::Parser::ParseDeclarationSpecifiers(clang::DeclSpec&, clang::Parser::ParsedTemplateInfo const&, clang::AccessSpecifier, clang::Parser::DeclSpecContext, clang::Parser::LateParsedAttrList*) + 2298\n",
      "14 libclang-cpp.10.dylib           0x0000000107965644 clang::Parser::ParseCXXClassMemberDeclaration(clang::AccessSpecifier, clang::ParsedAttributes&, clang::Parser::ParsedTemplateInfo const&, clang::ParsingDeclRAIIObject*) + 2244\n",
      "15 libclang-cpp.10.dylib           0x0000000107968152 clang::Parser::ParseCXXClassMemberDeclarationWithPragmas(clang::AccessSpecifier&, clang::Parser::ParsedAttributesWithRange&, clang::TypeSpecifierType, clang::Decl*) + 1874\n",
      "16 libclang-cpp.10.dylib           0x00000001079626ca clang::Parser::ParseCXXMemberSpecification(clang::SourceLocation, clang::SourceLocation, clang::Parser::ParsedAttributesWithRange&, unsigned int, clang::Decl*) + 2378\n",
      "17 libclang-cpp.10.dylib           0x000000010795ff7a clang::Parser::ParseClassSpecifier(clang::tok::TokenKind, clang::SourceLocation, clang::DeclSpec&, clang::Parser::ParsedTemplateInfo const&, clang::AccessSpecifier, bool, clang::Parser::DeclSpecContext, clang::Parser::ParsedAttributesWithRange&) + 5402\n",
      "18 libclang-cpp.10.dylib           0x000000010793ecb6 clang::Parser::ParseDeclarationSpecifiers(clang::DeclSpec&, clang::Parser::ParsedTemplateInfo const&, clang::AccessSpecifier, clang::Parser::DeclSpecContext, clang::Parser::LateParsedAttrList*) + 1094\n",
      "19 libclang-cpp.10.dylib           0x0000000107965644 clang::Parser::ParseCXXClassMemberDeclaration(clang::AccessSpecifier, clang::ParsedAttributes&, clang::Parser::ParsedTemplateInfo const&, clang::ParsingDeclRAIIObject*) + 2244\n",
      "20 libclang-cpp.10.dylib           0x00000001079dac4b clang::Parser::ParseSingleDeclarationAfterTemplate(clang::DeclaratorContext, clang::Parser::ParsedTemplateInfo const&, clang::ParsingDeclRAIIObject&, clang::SourceLocation&, clang::ParsedAttributes&, clang::AccessSpecifier) + 315\n",
      "21 libclang-cpp.10.dylib           0x00000001079da3a0 clang::Parser::ParseTemplateDeclarationOrSpecialization(clang::DeclaratorContext, clang::SourceLocation&, clang::ParsedAttributes&, clang::AccessSpecifier) + 1344\n",
      "22 libclang-cpp.10.dylib           0x0000000107964eac clang::Parser::ParseCXXClassMemberDeclaration(clang::AccessSpecifier, clang::ParsedAttributes&, clang::Parser::ParsedTemplateInfo const&, clang::ParsingDeclRAIIObject*) + 300\n",
      "23 libclang-cpp.10.dylib           0x0000000107968152 clang::Parser::ParseCXXClassMemberDeclarationWithPragmas(clang::AccessSpecifier&, clang::Parser::ParsedAttributesWithRange&, clang::TypeSpecifierType, clang::Decl*) + 1874\n",
      "24 libclang-cpp.10.dylib           0x00000001079626ca clang::Parser::ParseCXXMemberSpecification(clang::SourceLocation, clang::SourceLocation, clang::Parser::ParsedAttributesWithRange&, unsigned int, clang::Decl*) + 2378\n",
      "25 libclang-cpp.10.dylib           0x000000010795ff7a clang::Parser::ParseClassSpecifier(clang::tok::TokenKind, clang::SourceLocation, clang::DeclSpec&, clang::Parser::ParsedTemplateInfo const&, clang::AccessSpecifier, bool, clang::Parser::DeclSpecContext, clang::Parser::ParsedAttributesWithRange&) + 5402\n",
      "26 libclang-cpp.10.dylib           0x000000010793ecb6 clang::Parser::ParseDeclarationSpecifiers(clang::DeclSpec&, clang::Parser::ParsedTemplateInfo const&, clang::AccessSpecifier, clang::Parser::DeclSpecContext, clang::Parser::LateParsedAttrList*) + 1094\n",
      "27 libclang-cpp.10.dylib           0x00000001079dae71 clang::Parser::ParseSingleDeclarationAfterTemplate(clang::DeclaratorContext, clang::Parser::ParsedTemplateInfo const&, clang::ParsingDeclRAIIObject&, clang::SourceLocation&, clang::ParsedAttributes&, clang::AccessSpecifier) + 865\n",
      "28 libclang-cpp.10.dylib           0x00000001079da3a0 clang::Parser::ParseTemplateDeclarationOrSpecialization(clang::DeclaratorContext, clang::SourceLocation&, clang::ParsedAttributes&, clang::AccessSpecifier) + 1344\n",
      "29 libclang-cpp.10.dylib           0x00000001079d9cbf clang::Parser::ParseDeclarationStartingWithTemplate(clang::DeclaratorContext, clang::SourceLocation&, clang::ParsedAttributes&, clang::AccessSpecifier) + 255\n",
      "30 libclang-cpp.10.dylib           0x000000010793e0f9 clang::Parser::ParseDeclaration(clang::DeclaratorContext, clang::SourceLocation&, clang::Parser::ParsedAttributesWithRange&, clang::SourceLocation*) + 745\n",
      "31 libclang-cpp.10.dylib           0x00000001079eca05 clang::Parser::ParseExternalDeclaration(clang::Parser::ParsedAttributesWithRange&, clang::ParsingDeclSpec*) + 213\n",
      "32 libclang-cpp.10.dylib           0x0000000107959a39 clang::Parser::ParseInnerNamespace(llvm::SmallVector<clang::Parser::InnerNamespaceInfo, 4u> const&, unsigned int, clang::SourceLocation&, clang::ParsedAttributes&, clang::BalancedDelimiterTracker&) + 281\n",
      "33 libclang-cpp.10.dylib           0x0000000107959568 clang::Parser::ParseNamespace(clang::DeclaratorContext, clang::SourceLocation&, clang::SourceLocation) + 5992\n",
      "34 libclang-cpp.10.dylib           0x000000010793e2a6 clang::Parser::ParseDeclaration(clang::DeclaratorContext, clang::SourceLocation&, clang::Parser::ParsedAttributesWithRange&, clang::SourceLocation*) + 1174\n",
      "35 libclang-cpp.10.dylib           0x00000001079eca05 clang::Parser::ParseExternalDeclaration(clang::Parser::ParsedAttributesWithRange&, clang::ParsingDeclSpec*) + 213\n",
      "36 libclang-cpp.10.dylib           0x0000000107959a39 clang::Parser::ParseInnerNamespace(llvm::SmallVector<clang::Parser::InnerNamespaceInfo, 4u> const&, unsigned int, clang::SourceLocation&, clang::ParsedAttributes&, clang::BalancedDelimiterTracker&) + 281\n",
      "37 libclang-cpp.10.dylib           0x0000000107959568 clang::Parser::ParseNamespace(clang::DeclaratorContext, clang::SourceLocation&, clang::SourceLocation) + 5992\n",
      "38 libclang-cpp.10.dylib           0x000000010793e2a6 clang::Parser::ParseDeclaration(clang::DeclaratorContext, clang::SourceLocation&, clang::Parser::ParsedAttributesWithRange&, clang::SourceLocation*) + 1174\n",
      "39 libclang-cpp.10.dylib           0x00000001079eca05 clang::Parser::ParseExternalDeclaration(clang::Parser::ParsedAttributesWithRange&, clang::ParsingDeclSpec*) + 213\n",
      "40 libclang-cpp.10.dylib           0x0000000107959a39 clang::Parser::ParseInnerNamespace(llvm::SmallVector<clang::Parser::InnerNamespaceInfo, 4u> const&, unsigned int, clang::SourceLocation&, clang::ParsedAttributes&, clang::BalancedDelimiterTracker&) + 281\n",
      "41 libclang-cpp.10.dylib           0x0000000107959568 clang::Parser::ParseNamespace(clang::DeclaratorContext, clang::SourceLocation&, clang::SourceLocation) + 5992\n",
      "42 libclang-cpp.10.dylib           0x000000010793e2a6 clang::Parser::ParseDeclaration(clang::DeclaratorContext, clang::SourceLocation&, clang::Parser::ParsedAttributesWithRange&, clang::SourceLocation*) + 1174\n",
      "43 libclang-cpp.10.dylib           0x00000001079eca05 clang::Parser::ParseExternalDeclaration(clang::Parser::ParsedAttributesWithRange&, clang::ParsingDeclSpec*) + 213\n",
      "44 libclang-cpp.10.dylib           0x00000001079eb53a clang::Parser::ParseTopLevelDecl(clang::OpaquePtr<clang::DeclGroupRef>&, bool) + 1066\n",
      "45 libclang-cpp.10.dylib           0x000000010792ceed clang::ParseAST(clang::Sema&, bool, bool) + 541\n",
      "46 libclang-cpp.10.dylib           0x0000000109159eb8 clang::FrontendAction::Execute() + 168\n",
      "47 libclang-cpp.10.dylib           0x00000001090eddc1 clang::CompilerInstance::ExecuteAction(clang::FrontendAction&) + 1553\n",
      "48 libclang-cpp.10.dylib           0x00000001091cd81e clang::ExecuteCompilerInvocation(clang::CompilerInstance*) + 2190\n",
      "49 x86_64-apple-darwin13.4.0-clang 0x00000001077dee11 cc1_main(llvm::ArrayRef<char const*>, char const*, void*) + 2177\n",
      "50 x86_64-apple-darwin13.4.0-clang 0x00000001077dccd6 ExecuteCC1Tool(llvm::SmallVectorImpl<char const*>&) + 358\n",
      "51 libclang-cpp.10.dylib           0x0000000108d850a7 void llvm::function_ref<void ()>::callback_fn<clang::driver::CC1Command::Execute(llvm::ArrayRef<llvm::Optional<llvm::StringRef> >, std::__1::basic_string<char, std::__1::char_traits<char>, std::__1::allocator<char> >*, bool*) const::$_1>(long) + 23\n",
      "52 libLLVM-10.dylib                0x000000010a2ab36a llvm::CrashRecoveryContext::RunSafely(llvm::function_ref<void ()>) + 218\n",
      "53 libclang-cpp.10.dylib           0x0000000108d84434 clang::driver::CC1Command::Execute(llvm::ArrayRef<llvm::Optional<llvm::StringRef> >, std::__1::basic_string<char, std::__1::char_traits<char>, std::__1::allocator<char> >*, bool*) const + 404\n",
      "54 libclang-cpp.10.dylib           0x0000000108d4f021 clang::driver::Compilation::ExecuteCommand(clang::driver::Command const&, clang::driver::Command const*&) const + 433\n",
      "55 libclang-cpp.10.dylib           0x0000000108d4f5dc clang::driver::Compilation::ExecuteJobs(clang::driver::JobList const&, llvm::SmallVectorImpl<std::__1::pair<int, clang::driver::Command const*> >&) const + 140\n",
      "56 libclang-cpp.10.dylib           0x0000000108d6a7fc clang::driver::Driver::ExecuteCompilation(clang::driver::Compilation&, llvm::SmallVectorImpl<std::__1::pair<int, clang::driver::Command const*> >&) + 444\n",
      "57 x86_64-apple-darwin13.4.0-clang 0x00000001077dc5ce main + 10590\n",
      "58 libdyld.dylib                   0x00007fff206e9f3d start + 1\n",
      "clang-10: error: clang frontend command failed due to signal (use -v to see invocation)\n",
      "clang version 10.0.0 \n",
      "Target: x86_64-apple-darwin13.4.0\n",
      "Thread model: posix\n",
      "InstalledDir: /Users/lguelman/opt/anaconda3/envs/pytestroll/bin\n",
      "clang-10: note: diagnostic msg: PLEASE submit a bug report to  and include the crash backtrace, preprocessed source, and associated run script.\n"
     ]
    },
    {
     "name": "stderr",
     "output_type": "stream",
     "text": [
      "clang-10: note: diagnostic msg: Error generating preprocessed source(s).\n"
     ]
    },
    {
     "ename": "CompileError",
     "evalue": "command '/Users/lguelman/opt/anaconda3/envs/pytestroll/bin/x86_64-apple-darwin13.4.0-clang' failed with exit code 254",
     "output_type": "error",
     "traceback": [
      "\u001b[0;31m---------------------------------------------------------------------------\u001b[0m",
      "\u001b[0;31mDistutilsExecError\u001b[0m                        Traceback (most recent call last)",
      "File \u001b[0;32m~/opt/anaconda3/envs/pytestroll/lib/python3.8/site-packages/setuptools/_distutils/unixccompiler.py:173\u001b[0m, in \u001b[0;36mUnixCCompiler._compile\u001b[0;34m(self, obj, src, ext, cc_args, extra_postargs, pp_opts)\u001b[0m\n\u001b[1;32m    172\u001b[0m \u001b[38;5;28;01mtry\u001b[39;00m:\n\u001b[0;32m--> 173\u001b[0m     \u001b[38;5;28;43mself\u001b[39;49m\u001b[38;5;241;43m.\u001b[39;49m\u001b[43mspawn\u001b[49m\u001b[43m(\u001b[49m\u001b[43mcompiler_so\u001b[49m\u001b[43m \u001b[49m\u001b[38;5;241;43m+\u001b[39;49m\u001b[43m \u001b[49m\u001b[43mcc_args\u001b[49m\u001b[43m \u001b[49m\u001b[38;5;241;43m+\u001b[39;49m\u001b[43m \u001b[49m\u001b[43m[\u001b[49m\u001b[43msrc\u001b[49m\u001b[43m,\u001b[49m\u001b[43m \u001b[49m\u001b[38;5;124;43m'\u001b[39;49m\u001b[38;5;124;43m-o\u001b[39;49m\u001b[38;5;124;43m'\u001b[39;49m\u001b[43m,\u001b[49m\u001b[43m \u001b[49m\u001b[43mobj\u001b[49m\u001b[43m]\u001b[49m\u001b[43m \u001b[49m\u001b[38;5;241;43m+\u001b[39;49m\n\u001b[1;32m    174\u001b[0m \u001b[43m               \u001b[49m\u001b[43mextra_postargs\u001b[49m\u001b[43m)\u001b[49m\n\u001b[1;32m    175\u001b[0m \u001b[38;5;28;01mexcept\u001b[39;00m DistutilsExecError \u001b[38;5;28;01mas\u001b[39;00m msg:\n",
      "File \u001b[0;32m~/opt/anaconda3/envs/pytestroll/lib/python3.8/site-packages/setuptools/_distutils/ccompiler.py:917\u001b[0m, in \u001b[0;36mCCompiler.spawn\u001b[0;34m(self, cmd, **kwargs)\u001b[0m\n\u001b[1;32m    916\u001b[0m \u001b[38;5;28;01mdef\u001b[39;00m \u001b[38;5;21mspawn\u001b[39m(\u001b[38;5;28mself\u001b[39m, cmd, \u001b[38;5;241m*\u001b[39m\u001b[38;5;241m*\u001b[39mkwargs):\n\u001b[0;32m--> 917\u001b[0m     \u001b[43mspawn\u001b[49m\u001b[43m(\u001b[49m\u001b[43mcmd\u001b[49m\u001b[43m,\u001b[49m\u001b[43m \u001b[49m\u001b[43mdry_run\u001b[49m\u001b[38;5;241;43m=\u001b[39;49m\u001b[38;5;28;43mself\u001b[39;49m\u001b[38;5;241;43m.\u001b[39;49m\u001b[43mdry_run\u001b[49m\u001b[43m,\u001b[49m\u001b[43m \u001b[49m\u001b[38;5;241;43m*\u001b[39;49m\u001b[38;5;241;43m*\u001b[39;49m\u001b[43mkwargs\u001b[49m\u001b[43m)\u001b[49m\n",
      "File \u001b[0;32m~/opt/anaconda3/envs/pytestroll/lib/python3.8/site-packages/setuptools/_distutils/spawn.py:68\u001b[0m, in \u001b[0;36mspawn\u001b[0;34m(cmd, search_path, verbose, dry_run, env)\u001b[0m\n\u001b[1;32m     67\u001b[0m     cmd \u001b[38;5;241m=\u001b[39m cmd[\u001b[38;5;241m0\u001b[39m]\n\u001b[0;32m---> 68\u001b[0m \u001b[38;5;28;01mraise\u001b[39;00m DistutilsExecError(\n\u001b[1;32m     69\u001b[0m       \u001b[38;5;124m\"\u001b[39m\u001b[38;5;124mcommand \u001b[39m\u001b[38;5;132;01m%r\u001b[39;00m\u001b[38;5;124m failed with exit code \u001b[39m\u001b[38;5;132;01m%s\u001b[39;00m\u001b[38;5;124m\"\u001b[39m \u001b[38;5;241m%\u001b[39m (cmd, exitcode))\n",
      "\u001b[0;31mDistutilsExecError\u001b[0m: command '/Users/lguelman/opt/anaconda3/envs/pytestroll/bin/x86_64-apple-darwin13.4.0-clang' failed with exit code 254",
      "\nDuring handling of the above exception, another exception occurred:\n",
      "\u001b[0;31mCompileError\u001b[0m                              Traceback (most recent call last)",
      "Input \u001b[0;32mIn [3]\u001b[0m, in \u001b[0;36m<cell line: 1>\u001b[0;34m()\u001b[0m\n\u001b[0;32m----> 1\u001b[0m sm \u001b[38;5;241m=\u001b[39m \u001b[43mpystan\u001b[49m\u001b[38;5;241;43m.\u001b[39;49m\u001b[43mStanModel\u001b[49m\u001b[43m(\u001b[49m\u001b[38;5;124;43m'\u001b[39;49m\u001b[38;5;124;43m/Users/lguelman/Library/Mobile Documents/com~apple~CloudDocs/LG_Files/Development/pytestroll/src/stan/website.stan\u001b[39;49m\u001b[38;5;124;43m'\u001b[39;49m\u001b[43m)\u001b[49m\n",
      "File \u001b[0;32m~/opt/anaconda3/envs/pytestroll/lib/python3.8/site-packages/pystan/model.py:378\u001b[0m, in \u001b[0;36mStanModel.__init__\u001b[0;34m(self, file, charset, model_name, model_code, stanc_ret, include_paths, boost_lib, eigen_lib, verbose, obfuscate_model_name, extra_compile_args, allow_undefined, include_dirs, includes)\u001b[0m\n\u001b[1;32m    375\u001b[0m     orig_stderr \u001b[38;5;241m=\u001b[39m pystan\u001b[38;5;241m.\u001b[39mmisc\u001b[38;5;241m.\u001b[39m_redirect_stderr()\n\u001b[1;32m    377\u001b[0m \u001b[38;5;28;01mtry\u001b[39;00m:\n\u001b[0;32m--> 378\u001b[0m     \u001b[43mbuild_extension\u001b[49m\u001b[38;5;241;43m.\u001b[39;49m\u001b[43mrun\u001b[49m\u001b[43m(\u001b[49m\u001b[43m)\u001b[49m\n\u001b[1;32m    379\u001b[0m \u001b[38;5;28;01mfinally\u001b[39;00m:\n\u001b[1;32m    380\u001b[0m     \u001b[38;5;28;01mif\u001b[39;00m redirect_stderr:\n\u001b[1;32m    381\u001b[0m         \u001b[38;5;66;03m# restore stderr\u001b[39;00m\n",
      "File \u001b[0;32m~/opt/anaconda3/envs/pytestroll/lib/python3.8/site-packages/setuptools/_distutils/command/build_ext.py:339\u001b[0m, in \u001b[0;36mbuild_ext.run\u001b[0;34m(self)\u001b[0m\n\u001b[1;32m    336\u001b[0m     \u001b[38;5;28mself\u001b[39m\u001b[38;5;241m.\u001b[39mcompiler\u001b[38;5;241m.\u001b[39mset_link_objects(\u001b[38;5;28mself\u001b[39m\u001b[38;5;241m.\u001b[39mlink_objects)\n\u001b[1;32m    338\u001b[0m \u001b[38;5;66;03m# Now actually compile and link everything.\u001b[39;00m\n\u001b[0;32m--> 339\u001b[0m \u001b[38;5;28;43mself\u001b[39;49m\u001b[38;5;241;43m.\u001b[39;49m\u001b[43mbuild_extensions\u001b[49m\u001b[43m(\u001b[49m\u001b[43m)\u001b[49m\n",
      "File \u001b[0;32m~/opt/anaconda3/envs/pytestroll/lib/python3.8/site-packages/setuptools/_distutils/command/build_ext.py:448\u001b[0m, in \u001b[0;36mbuild_ext.build_extensions\u001b[0;34m(self)\u001b[0m\n\u001b[1;32m    446\u001b[0m     \u001b[38;5;28mself\u001b[39m\u001b[38;5;241m.\u001b[39m_build_extensions_parallel()\n\u001b[1;32m    447\u001b[0m \u001b[38;5;28;01melse\u001b[39;00m:\n\u001b[0;32m--> 448\u001b[0m     \u001b[38;5;28;43mself\u001b[39;49m\u001b[38;5;241;43m.\u001b[39;49m\u001b[43m_build_extensions_serial\u001b[49m\u001b[43m(\u001b[49m\u001b[43m)\u001b[49m\n",
      "File \u001b[0;32m~/opt/anaconda3/envs/pytestroll/lib/python3.8/site-packages/setuptools/_distutils/command/build_ext.py:473\u001b[0m, in \u001b[0;36mbuild_ext._build_extensions_serial\u001b[0;34m(self)\u001b[0m\n\u001b[1;32m    471\u001b[0m \u001b[38;5;28;01mfor\u001b[39;00m ext \u001b[38;5;129;01min\u001b[39;00m \u001b[38;5;28mself\u001b[39m\u001b[38;5;241m.\u001b[39mextensions:\n\u001b[1;32m    472\u001b[0m     \u001b[38;5;28;01mwith\u001b[39;00m \u001b[38;5;28mself\u001b[39m\u001b[38;5;241m.\u001b[39m_filter_build_errors(ext):\n\u001b[0;32m--> 473\u001b[0m         \u001b[38;5;28;43mself\u001b[39;49m\u001b[38;5;241;43m.\u001b[39;49m\u001b[43mbuild_extension\u001b[49m\u001b[43m(\u001b[49m\u001b[43mext\u001b[49m\u001b[43m)\u001b[49m\n",
      "File \u001b[0;32m~/opt/anaconda3/envs/pytestroll/lib/python3.8/site-packages/setuptools/_distutils/command/build_ext.py:528\u001b[0m, in \u001b[0;36mbuild_ext.build_extension\u001b[0;34m(self, ext)\u001b[0m\n\u001b[1;32m    525\u001b[0m \u001b[38;5;28;01mfor\u001b[39;00m undef \u001b[38;5;129;01min\u001b[39;00m ext\u001b[38;5;241m.\u001b[39mundef_macros:\n\u001b[1;32m    526\u001b[0m     macros\u001b[38;5;241m.\u001b[39mappend((undef,))\n\u001b[0;32m--> 528\u001b[0m objects \u001b[38;5;241m=\u001b[39m \u001b[38;5;28;43mself\u001b[39;49m\u001b[38;5;241;43m.\u001b[39;49m\u001b[43mcompiler\u001b[49m\u001b[38;5;241;43m.\u001b[39;49m\u001b[43mcompile\u001b[49m\u001b[43m(\u001b[49m\u001b[43msources\u001b[49m\u001b[43m,\u001b[49m\n\u001b[1;32m    529\u001b[0m \u001b[43m                                 \u001b[49m\u001b[43moutput_dir\u001b[49m\u001b[38;5;241;43m=\u001b[39;49m\u001b[38;5;28;43mself\u001b[39;49m\u001b[38;5;241;43m.\u001b[39;49m\u001b[43mbuild_temp\u001b[49m\u001b[43m,\u001b[49m\n\u001b[1;32m    530\u001b[0m \u001b[43m                                 \u001b[49m\u001b[43mmacros\u001b[49m\u001b[38;5;241;43m=\u001b[39;49m\u001b[43mmacros\u001b[49m\u001b[43m,\u001b[49m\n\u001b[1;32m    531\u001b[0m \u001b[43m                                 \u001b[49m\u001b[43minclude_dirs\u001b[49m\u001b[38;5;241;43m=\u001b[39;49m\u001b[43mext\u001b[49m\u001b[38;5;241;43m.\u001b[39;49m\u001b[43minclude_dirs\u001b[49m\u001b[43m,\u001b[49m\n\u001b[1;32m    532\u001b[0m \u001b[43m                                 \u001b[49m\u001b[43mdebug\u001b[49m\u001b[38;5;241;43m=\u001b[39;49m\u001b[38;5;28;43mself\u001b[39;49m\u001b[38;5;241;43m.\u001b[39;49m\u001b[43mdebug\u001b[49m\u001b[43m,\u001b[49m\n\u001b[1;32m    533\u001b[0m \u001b[43m                                 \u001b[49m\u001b[43mextra_postargs\u001b[49m\u001b[38;5;241;43m=\u001b[39;49m\u001b[43mextra_args\u001b[49m\u001b[43m,\u001b[49m\n\u001b[1;32m    534\u001b[0m \u001b[43m                                 \u001b[49m\u001b[43mdepends\u001b[49m\u001b[38;5;241;43m=\u001b[39;49m\u001b[43mext\u001b[49m\u001b[38;5;241;43m.\u001b[39;49m\u001b[43mdepends\u001b[49m\u001b[43m)\u001b[49m\n\u001b[1;32m    536\u001b[0m \u001b[38;5;66;03m# XXX outdated variable, kept here in case third-part code\u001b[39;00m\n\u001b[1;32m    537\u001b[0m \u001b[38;5;66;03m# needs it.\u001b[39;00m\n\u001b[1;32m    538\u001b[0m \u001b[38;5;28mself\u001b[39m\u001b[38;5;241m.\u001b[39m_built_objects \u001b[38;5;241m=\u001b[39m objects[:]\n",
      "File \u001b[0;32m~/opt/anaconda3/envs/pytestroll/lib/python3.8/site-packages/setuptools/_distutils/ccompiler.py:574\u001b[0m, in \u001b[0;36mCCompiler.compile\u001b[0;34m(self, sources, output_dir, macros, include_dirs, debug, extra_preargs, extra_postargs, depends)\u001b[0m\n\u001b[1;32m    572\u001b[0m     \u001b[38;5;28;01mexcept\u001b[39;00m \u001b[38;5;167;01mKeyError\u001b[39;00m:\n\u001b[1;32m    573\u001b[0m         \u001b[38;5;28;01mcontinue\u001b[39;00m\n\u001b[0;32m--> 574\u001b[0m     \u001b[38;5;28;43mself\u001b[39;49m\u001b[38;5;241;43m.\u001b[39;49m\u001b[43m_compile\u001b[49m\u001b[43m(\u001b[49m\u001b[43mobj\u001b[49m\u001b[43m,\u001b[49m\u001b[43m \u001b[49m\u001b[43msrc\u001b[49m\u001b[43m,\u001b[49m\u001b[43m \u001b[49m\u001b[43mext\u001b[49m\u001b[43m,\u001b[49m\u001b[43m \u001b[49m\u001b[43mcc_args\u001b[49m\u001b[43m,\u001b[49m\u001b[43m \u001b[49m\u001b[43mextra_postargs\u001b[49m\u001b[43m,\u001b[49m\u001b[43m \u001b[49m\u001b[43mpp_opts\u001b[49m\u001b[43m)\u001b[49m\n\u001b[1;32m    576\u001b[0m \u001b[38;5;66;03m# Return *all* object filenames, not just the ones we just built.\u001b[39;00m\n\u001b[1;32m    577\u001b[0m \u001b[38;5;28;01mreturn\u001b[39;00m objects\n",
      "File \u001b[0;32m~/opt/anaconda3/envs/pytestroll/lib/python3.8/site-packages/setuptools/_distutils/unixccompiler.py:176\u001b[0m, in \u001b[0;36mUnixCCompiler._compile\u001b[0;34m(self, obj, src, ext, cc_args, extra_postargs, pp_opts)\u001b[0m\n\u001b[1;32m    173\u001b[0m     \u001b[38;5;28mself\u001b[39m\u001b[38;5;241m.\u001b[39mspawn(compiler_so \u001b[38;5;241m+\u001b[39m cc_args \u001b[38;5;241m+\u001b[39m [src, \u001b[38;5;124m'\u001b[39m\u001b[38;5;124m-o\u001b[39m\u001b[38;5;124m'\u001b[39m, obj] \u001b[38;5;241m+\u001b[39m\n\u001b[1;32m    174\u001b[0m                extra_postargs)\n\u001b[1;32m    175\u001b[0m \u001b[38;5;28;01mexcept\u001b[39;00m DistutilsExecError \u001b[38;5;28;01mas\u001b[39;00m msg:\n\u001b[0;32m--> 176\u001b[0m     \u001b[38;5;28;01mraise\u001b[39;00m CompileError(msg)\n",
      "\u001b[0;31mCompileError\u001b[0m: command '/Users/lguelman/opt/anaconda3/envs/pytestroll/bin/x86_64-apple-darwin13.4.0-clang' failed with exit code 254"
     ]
    }
   ],
   "source": [
    "sm = pystan.StanModel('/Users/lguelman/Library/Mobile Documents/com~apple~CloudDocs/LG_Files/Development/pytestroll/src/stan/website.stan') \n",
    "#multiprocessing.set_start_method(\"fork\", force=True)\n",
    "#fit = sm.sampling(data=d, iter=2000, chains=4, seed=19348)"
   ]
  },
  {
   "cell_type": "code",
   "execution_count": null,
   "id": "cc8d5a69",
   "metadata": {},
   "outputs": [],
   "source": [
    "fit_summary = stan_model_summary(fit)\n",
    "fit_summary"
   ]
  },
  {
   "cell_type": "code",
   "execution_count": null,
   "id": "5c067d5e",
   "metadata": {},
   "outputs": [],
   "source": [
    "# MCMCM Diagnostics\n",
    "stan_utility.utils.check_treedepth(fit)\n",
    "stan_utility.utils.check_energy(fit)\n",
    "stan_utility.utils.check_div(fit)"
   ]
  },
  {
   "cell_type": "markdown",
   "id": "819f55e2",
   "metadata": {},
   "source": [
    "## Design Test & Roll\n",
    "\n",
    "To replicate the exact results in the paper, use these rounded values.\n"
   ]
  },
  {
   "cell_type": "code",
   "execution_count": null,
   "id": "9a35188e",
   "metadata": {},
   "outputs": [],
   "source": [
    "mu = 0.68\n",
    "sigma = 0.03\n",
    "N = 100000"
   ]
  },
  {
   "cell_type": "code",
   "execution_count": null,
   "id": "c6edcf69",
   "metadata": {},
   "outputs": [],
   "source": [
    "# Profit-maximizing\n",
    "tr = TestRoll(N = N, s = np.sqrt(mu*(1-mu)), mu = mu, sigma = sigma)\n",
    "n_star = tr.tr_size_nn()\n",
    "print(\"Test & Roll samples:\", n_star, '\\n')\n",
    "\n",
    "print(\"Test & Roll - Evaluation Summary:\")\n",
    "ev = tr.eval_nn(n=n_star)\n",
    "ev"
   ]
  },
  {
   "cell_type": "code",
   "execution_count": null,
   "id": "d229cc9f",
   "metadata": {},
   "outputs": [],
   "source": [
    "# Compare to standard NHT \n",
    "\n",
    "d = 0.68*0.02 # 2% lift \n",
    "\n",
    "nht = NHST(s=np.sqrt(mu*(1-mu)), d=d)\n",
    "n_nht = nht.nht_size_nn()\n",
    "print(\"NHST Samples:\", n_nht, '\\n')\n",
    "\n",
    "\n",
    "print(\"NHST - Evaluation Summary:\")\n",
    "ev_nht = tr.eval_nn(n=n_nht)\n",
    "ev_nht"
   ]
  },
  {
   "cell_type": "code",
   "execution_count": null,
   "id": "0059c6d4",
   "metadata": {},
   "outputs": [],
   "source": [
    "# Compare to NHT with Finite Population Correction\n",
    "\n",
    "n_nht_fpc = nht.nht_size_nn(N=100000)\n",
    "print(\"NHST Samples (w/ fpc):\", n_nht_fpc, '\\n')\n",
    "\n",
    "\n",
    "print(\"NHST (w/ fpc)- Evaluation Summary:\")\n",
    "ev_nht_fpc = tr.eval_nn(n=n_nht_fpc)\n",
    "ev_nht_fpc"
   ]
  },
  {
   "cell_type": "markdown",
   "id": "92774134",
   "metadata": {},
   "source": [
    "## Profit and error rate as a function of $n$ (Figure 3)"
   ]
  },
  {
   "cell_type": "code",
   "execution_count": null,
   "id": "b39a83c1",
   "metadata": {},
   "outputs": [],
   "source": [
    "n = np.concatenate(\n",
    "    (np.linspace(1, 19, 19, endpoint=True), \n",
    "     np.linspace(20, 19*10, 18, endpoint=True),\n",
    "     np.linspace(200, 19*100, 18, endpoint=True),\n",
    "     np.linspace(2000, 19*1000, 18, endpoint=True),\n",
    "     np.linspace(20000, 50000, 4, endpoint=True),\n",
    "     ),\n",
    "    )\n",
    "out = list()\n",
    "\n",
    "for i in range(len(n)):\n",
    "    out.append(\n",
    "        TestRoll(N=N, s=np.sqrt(mu*(1-mu)), mu=mu, sigma=sigma).eval_nn(n=np.repeat(n[i], 2))\n",
    "        )\n",
    "out = pd.DataFrame(out)\n",
    "\n",
    "fig, axs = plt.subplots(1,2, figsize=(20, 8), facecolor='w', edgecolor='k')\n",
    "        \n",
    "p = sns.lineplot(ax=axs[0], data=out, x=\"n1\", y=\"profit\", color= 'black')\n",
    "p.set_xlabel(r'Test Size $(n_1=n_2)$')\n",
    "p.set_ylabel(\"Expected Conversions\")\n",
    "p.axvline(n_star[0], color= 'g', label=r'$n*=2284$')\n",
    "p.axvline(n_nht_fpc[0], color='b', linestyle='-.', label=r'$n_{FPC}$')\n",
    "p.axvline(n_nht[0], color='r', linestyle='--', label=r'$n_{NHT}$')\n",
    "p.legend()\n",
    "\n",
    "p = sns.lineplot(ax=axs[1], data=out, x=\"n1\", y=\"error_rate\", color= 'black')\n",
    "p.set_xlabel(r'Test Size $(n_1=n_2)$')\n",
    "p.set_ylabel(\"Error Rate\")\n",
    "p.axvline(n_star[0], color= 'g', label=r'$n*=2284$')\n",
    "p.axvline(n_nht_fpc[0], color='b', linestyle='-.', label=r'$n_{FPC}$')\n",
    "p.axvline(n_nht[0], color='r', linestyle='--', label=r'$n_{NHT}$')\n",
    "p.legend()"
   ]
  },
  {
   "cell_type": "markdown",
   "id": "7539c320",
   "metadata": {},
   "source": [
    "## Sample size sensitivities (Figure 4)"
   ]
  },
  {
   "cell_type": "code",
   "execution_count": null,
   "id": "4d85994d",
   "metadata": {},
   "outputs": [],
   "source": [
    "# Optimal sample sizes for different N \n",
    "N = np.concatenate(\n",
    "    (np.linspace(100, 1000, 10, endpoint=True), \n",
    "     np.linspace(2000, 10000*1000, 10000, endpoint=True),\n",
    "     ),\n",
    "    )\n",
    "\n",
    "tr = np.zeros((len(N)))\n",
    "fpc = np.zeros((len(N)))\n",
    "for i in range(len(N)):   \n",
    "    tr[i]  = TestRoll(N=N[i], s=np.sqrt(mu*(1-mu)), sigma=sigma).tr_size_nn()[0]\n",
    "    fpc[i] = NHST(s=np.sqrt(mu*(1-mu)), d=d, conf=0.95, power=0.8).nht_size_nn(N=N[i])[0]\n",
    "    \n",
    "out2 = pd.DataFrame({'N':N/1000000, 'tr':tr, 'fpc':fpc, 'nht': n_nht[0]})    \n",
    "\n",
    "fig, ax = plt.subplots()\n",
    "p = sns.lineplot(data=out2, x=\"N\", y=\"tr\", color= 'g', label =r'$n*$')\n",
    "p = sns.lineplot(data=out2, x=\"N\", y=\"fpc\", color= 'b', linestyle='-.', label =r'$n_{FPC}$')\n",
    "p = sns.lineplot(data=out2, x=\"N\", y=\"nht\", color= 'r', linestyle='--', label =r'$n_{NHT}$')\n",
    "p.set_xlabel('Population Size (N, millions)')\n",
    "p.set_ylabel(\"Test Size\")\n",
    "p.legend()"
   ]
  },
  {
   "cell_type": "code",
   "execution_count": null,
   "id": "8150e2bf",
   "metadata": {},
   "outputs": [],
   "source": [
    "# Optimal sample sizes for different sigma\n",
    "N=100000\n",
    "sigma = np.linspace(0.001, 0.19, 190, endpoint=True)\n",
    "d = norm.ppf(q=0.5+0.125, loc=0, scale=np.sqrt(2)*sigma) #25th percentile of prior on te\n",
    "tr = np.zeros((len(sigma)))\n",
    "fpc = np.zeros((len(sigma)))\n",
    "nht = np.zeros((len(sigma)))\n",
    "\n",
    "for i in range(len(sigma)):\n",
    "    tr[i] = TestRoll(N=N, s=np.sqrt(mu*(1-mu)), sigma=sigma[i]).tr_size_nn()[0]\n",
    "    fpc[i] = NHST(s=np.sqrt(mu*(1-mu)), d=d[i], conf=0.95, power=0.8).nht_size_nn(N=N)[0]\n",
    "    nht[i] = NHST(s=np.sqrt(mu*(1-mu)), d=d[i], conf=0.95, power=0.8).nht_size_nn()[0]\n",
    "    #tr[i] = test_size_nn(N, s=np.sqrt(mu*(1-mu)), sigma=sigma[i])[0]\n",
    "    #fpc[i] = test_size_nht(s=np.sqrt(mu*(1-mu)), d=d[i], conf=0.95, power=0.8, N=N)[0]\n",
    "    #nht[i] = test_size_nht(s=np.sqrt(mu*(1-mu)), d=d[i], conf=0.95, power=0.8)[0]\n",
    "out3 = pd.DataFrame({'sigma':sigma, 'tr':tr, 'fpc':fpc, 'nht': nht})    \n",
    "\n",
    "  \n",
    "fig, ax = plt.subplots()\n",
    "p = sns.lineplot(data=out3, x=\"sigma\", y=\"tr\", color= 'g', label =r'$n*$')\n",
    "p = sns.lineplot(data=out3, x=\"sigma\", y=\"fpc\", color= 'b', linestyle='-.', label =r'$n_{FPC}$')\n",
    "p = sns.lineplot(data=out3, x=\"sigma\", y=\"nht\", color= 'r', linestyle='--', label =r'$n_{NHT}$')\n",
    "p.set_xlabel(r'Std.Dev. of Prior $(\\sigma)$')\n",
    "p.set_ylabel(\"Test Size\")\n",
    "p.legend()\n",
    "p.set(ylim=(0, 25000))"
   ]
  },
  {
   "cell_type": "code",
   "execution_count": null,
   "id": "19f09cda",
   "metadata": {},
   "outputs": [],
   "source": [
    "# Optimal sample sizes for different s\n",
    "\n",
    "N = 100000\n",
    "sigma = 0.03\n",
    "d = 0.68*0.02\n",
    "s = np.linspace(0.001, 0.7, 350, endpoint=True)\n",
    "tr = np.zeros((len(s)))\n",
    "fpc = np.zeros((len(s)))\n",
    "nht = np.zeros((len(s)))\n",
    "for i in range(len(s)):\n",
    "    tr[i] = TestRoll(N=N, s=s[i], sigma=sigma).tr_size_nn()[0]\n",
    "    fpc[i] = NHST(s[i], d=d, conf=0.95, power=0.8).nht_size_nn(N=N)[0]\n",
    "    nht[i] = NHST(s[i], d=d, conf=0.95, power=0.8).nht_size_nn()[0]\n",
    "\n",
    "out4 = pd.DataFrame({'s':s, 'tr':tr, 'fpc':fpc, 'nht': nht})    \n",
    "\n",
    "\n",
    "fig, ax = plt.subplots()\n",
    "p = sns.lineplot(data=out4, x=\"s\", y=\"tr\", color= 'g', label =r'$n*$')\n",
    "p = sns.lineplot(data=out4, x=\"s\", y=\"fpc\", color= 'b', linestyle='-.', label =r'$n_{FPC}$')\n",
    "p = sns.lineplot(data=out4, x=\"s\", y=\"nht\", color= 'r', linestyle='--', label =r'$n_{NHT}$')\n",
    "p.set_xlabel(r'Std.Dev. of Response $(s)$')\n",
    "p.set_ylabel(\"Test Size\")\n",
    "p.legend()\n",
    "p.set(ylim=(0, 25000))"
   ]
  },
  {
   "cell_type": "markdown",
   "id": "3e9e8cf1",
   "metadata": {},
   "source": [
    "## Regret distribution and comparison with Thompson Sampling "
   ]
  },
  {
   "cell_type": "code",
   "execution_count": null,
   "id": "65513ad9",
   "metadata": {},
   "outputs": [],
   "source": [
    "s = mu*(1-mu) # should this be sqrt?\n",
    "out = TestRoll(N=N, s=s, mu=mu, sigma=sigma).profit_nn_sim(n = n_star, K=2, TS=True, R=10000, seed=42)\n",
    "out"
   ]
  },
  {
   "cell_type": "code",
   "execution_count": null,
   "id": "41e3b5db",
   "metadata": {},
   "outputs": [],
   "source": [
    "out['profit']"
   ]
  },
  {
   "cell_type": "code",
   "execution_count": null,
   "id": "4104cc6e",
   "metadata": {},
   "outputs": [],
   "source": [
    "out['regret']"
   ]
  },
  {
   "cell_type": "code",
   "execution_count": null,
   "id": "1406724d",
   "metadata": {},
   "outputs": [],
   "source": [
    "out"
   ]
  }
 ],
 "metadata": {
  "kernelspec": {
   "display_name": "Python 3 (ipykernel)",
   "language": "python",
   "name": "python3"
  },
  "language_info": {
   "codemirror_mode": {
    "name": "ipython",
    "version": 3
   },
   "file_extension": ".py",
   "mimetype": "text/x-python",
   "name": "python",
   "nbconvert_exporter": "python",
   "pygments_lexer": "ipython3",
   "version": "3.8.3"
  }
 },
 "nbformat": 4,
 "nbformat_minor": 5
}
